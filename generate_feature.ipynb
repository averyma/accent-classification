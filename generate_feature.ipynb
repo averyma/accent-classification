{
 "cells": [
  {
   "cell_type": "code",
   "execution_count": 11,
   "metadata": {},
   "outputs": [
    {
     "name": "stderr",
     "output_type": "stream",
     "text": [
      "WARNING:root:frame length (1200) is greater than FFT size (512), frame will be truncated. Increase NFFT to avoid.\n"
     ]
    }
   ],
   "source": [
    "import csv\n",
    "from pydub import AudioSegment\n",
    "from pydub.silence import split_on_silence\n",
    "from python_speech_features import fbank\n",
    "from python_speech_features import mfcc\n",
    "from python_speech_features import delta\n",
    "import scipy.io.wavfile\n",
    "import scipy.io as sio\n",
    "import numpy as np\n",
    "\n",
    "# define input/output parameters\n",
    "audio_file_path = \"/Users/ama/git-repo/accent-classification/cv-valid-test/sample-000022.mp3\"\n",
    "output_path = '/Users/ama/git-repo/accent-classification/'\n",
    "feature_type = 'mfcc'\n",
    "fs = 48000 # sample_rate\n",
    "    \n",
    "sample = AudioSegment.from_mp3(sample_path)\n",
    "# convert pydub.AudioSegment object to wav, which python_speech_feature packages uses\n",
    "wav = np.fromstring(sample._data, dtype = np.int16)\n",
    "if feature_type == 'mfsc':\n",
    "    feature, energy = fbank(signal = wav, \n",
    "                            samplerate = fs,\n",
    "                            winlen = 0.025, \n",
    "                            winstep = 0.01,\n",
    "                            nfilt = 40, \n",
    "                            nfft = 512,  \n",
    "                            lowfreq = 0, \n",
    "                            highfreq = fs/2,\n",
    "                            preemph = 0.97,\n",
    "                            winfunc = np.hamming)\n",
    "    # log fbank -> MFSC: size(frames, nfilt)\n",
    "    feature = np.log(feature)\n",
    "elif feature_type == 'mfcc':\n",
    "    feature = mfcc( signal = wav, \n",
    "                    samplerate = fs,\n",
    "                    winlen = 0.025, \n",
    "                    winstep = 0.01,\n",
    "                    numcep = 40,\n",
    "                    nfilt = 40, \n",
    "                    nfft = 512,  \n",
    "                    lowfreq = 0, \n",
    "                    highfreq = fs/2,\n",
    "                    preemph = 0.97,\n",
    "                    ceplifter = 22,\n",
    "                    appendEnergy = False,\n",
    "                    winfunc = np.hamming)\n",
    "adict = {}\n",
    "adict['feature'] = feature\n",
    "sio.savemat('/Users/ama/git-repo/accent-classification/' + feature_type + '_feature.mat', adict)"
   ]
  },
  {
   "cell_type": "code",
   "execution_count": null,
   "metadata": {},
   "outputs": [],
   "source": []
  },
  {
   "cell_type": "code",
   "execution_count": null,
   "metadata": {},
   "outputs": [],
   "source": []
  },
  {
   "cell_type": "code",
   "execution_count": null,
   "metadata": {},
   "outputs": [],
   "source": []
  },
  {
   "cell_type": "code",
   "execution_count": null,
   "metadata": {},
   "outputs": [],
   "source": []
  },
  {
   "cell_type": "code",
   "execution_count": null,
   "metadata": {},
   "outputs": [],
   "source": []
  }
 ],
 "metadata": {
  "kernelspec": {
   "display_name": "Python 3",
   "language": "python",
   "name": "python3"
  },
  "language_info": {
   "codemirror_mode": {
    "name": "ipython",
    "version": 3
   },
   "file_extension": ".py",
   "mimetype": "text/x-python",
   "name": "python",
   "nbconvert_exporter": "python",
   "pygments_lexer": "ipython3",
   "version": "3.6.0"
  }
 },
 "nbformat": 4,
 "nbformat_minor": 2
}
